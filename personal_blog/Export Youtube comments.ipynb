{
 "cells": [
  {
   "cell_type": "code",
   "execution_count": 1,
   "metadata": {},
   "outputs": [],
   "source": [
    "from selenium import webdriver\n",
    "from selenium.webdriver.common.keys import Keys\n",
    "\n",
    "import time\n",
    "import pandas as pd"
   ]
  },
  {
   "cell_type": "code",
   "execution_count": 2,
   "metadata": {},
   "outputs": [],
   "source": [
    "url = 'https://www.youtube.com/watch?v=TVMHiv2rlB4'"
   ]
  },
  {
   "cell_type": "code",
   "execution_count": 3,
   "metadata": {},
   "outputs": [],
   "source": [
    "browser = webdriver.Chrome('/home/guest/coding/python/chromedriver_linux64/chromedriver')\n",
    "\n",
    "browser.get(url)"
   ]
  },
  {
   "cell_type": "code",
   "execution_count": 4,
   "metadata": {},
   "outputs": [],
   "source": [
    "SCROLL_PAUSE_TIME = 2\n",
    "CYCLES = 100"
   ]
  },
  {
   "cell_type": "code",
   "execution_count": 5,
   "metadata": {},
   "outputs": [],
   "source": [
    "html = browser.find_element_by_tag_name('html')\n",
    "html.send_keys(Keys.PAGE_DOWN)  # doing it twice for good measure\n",
    "html.send_keys(Keys.PAGE_DOWN)  # one time sometimes wasn't enough\n",
    "# adding extra time for initial comments to load\n",
    "# if they fail (because too little time allowed), the whole script breaks\n",
    "time.sleep(SCROLL_PAUSE_TIME * 3)\n",
    "# and now for loading the hidden comments by scrolling down and up\n",
    "for i in range(CYCLES):\n",
    "    html.send_keys(Keys.END)\n",
    "    time.sleep(SCROLL_PAUSE_TIME)"
   ]
  },
  {
   "cell_type": "code",
   "execution_count": 6,
   "metadata": {},
   "outputs": [],
   "source": [
    "sections = browser.find_elements_by_id('main')"
   ]
  },
  {
   "cell_type": "code",
   "execution_count": 7,
   "metadata": {},
   "outputs": [
    {
     "name": "stdout",
     "output_type": "stream",
     "text": [
      "177\n"
     ]
    }
   ],
   "source": [
    "final = []\n",
    "sub = {}\n",
    "for i, section in enumerate(sections):\n",
    "#     print(i)\n",
    "    try:\n",
    "        author = section.find_element_by_id('author-text').text\n",
    "        comment = section.find_element_by_id('content-text').text\n",
    "        sub['account'] = author\n",
    "        sub['comment'] = comment\n",
    "        final.append(sub.copy())\n",
    "    except:\n",
    "        print(i)\n",
    "# print(final)"
   ]
  },
  {
   "cell_type": "code",
   "execution_count": 8,
   "metadata": {},
   "outputs": [
    {
     "name": "stdout",
     "output_type": "stream",
     "text": [
      "<class 'pandas.core.frame.DataFrame'>\n",
      "RangeIndex: 177 entries, 0 to 176\n",
      "Data columns (total 2 columns):\n",
      "account    177 non-null object\n",
      "comment    177 non-null object\n",
      "dtypes: object(2)\n",
      "memory usage: 2.8+ KB\n"
     ]
    }
   ],
   "source": [
    "df = pd.DataFrame(final)\n",
    "df.info()"
   ]
  },
  {
   "cell_type": "code",
   "execution_count": 9,
   "metadata": {},
   "outputs": [],
   "source": [
    "df.to_excel('comments.xlsx')"
   ]
  },
  {
   "cell_type": "code",
   "execution_count": null,
   "metadata": {},
   "outputs": [],
   "source": []
  }
 ],
 "metadata": {
  "kernelspec": {
   "display_name": "Python 3",
   "language": "python",
   "name": "python3"
  },
  "language_info": {
   "codemirror_mode": {
    "name": "ipython",
    "version": 3
   },
   "file_extension": ".py",
   "mimetype": "text/x-python",
   "name": "python",
   "nbconvert_exporter": "python",
   "pygments_lexer": "ipython3",
   "version": "3.7.1"
  }
 },
 "nbformat": 4,
 "nbformat_minor": 2
}
